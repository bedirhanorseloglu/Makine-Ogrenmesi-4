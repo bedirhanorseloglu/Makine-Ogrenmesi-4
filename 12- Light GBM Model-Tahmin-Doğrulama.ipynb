{
 "cells": [
  {
   "cell_type": "code",
   "execution_count": 1,
   "metadata": {},
   "outputs": [
    {
     "name": "stdout",
     "output_type": "stream",
     "text": [
      "Requirement already satisfied: lightgbm in c:\\python312\\lib\\site-packages (4.4.0)\n",
      "Requirement already satisfied: numpy>=1.17.0 in c:\\python312\\lib\\site-packages (from lightgbm) (1.26.4)\n",
      "Requirement already satisfied: scipy in c:\\python312\\lib\\site-packages (from lightgbm) (1.13.1)\n"
     ]
    },
    {
     "name": "stderr",
     "output_type": "stream",
     "text": [
      "\n",
      "[notice] A new release of pip is available: 24.0 -> 24.2\n",
      "[notice] To update, run: python.exe -m pip install --upgrade pip\n"
     ]
    }
   ],
   "source": [
    "!pip install lightgbm"
   ]
  },
  {
   "cell_type": "code",
   "execution_count": 2,
   "metadata": {},
   "outputs": [],
   "source": [
    "# Kütüphaneler\n",
    "\n",
    "import numpy as np\n",
    "import pandas as pd\n",
    "import seaborn as sns\n",
    "from sklearn.model_selection import train_test_split , GridSearchCV\n",
    "from sklearn.metrics import mean_squared_error , r2_score , confusion_matrix , accuracy_score , roc_auc_score , roc_curve , classification_report\n",
    "import matplotlib.pyplot as plt\n",
    "from sklearn.preprocessing import scale , StandardScaler     # standardizasoyon işlemleri\n",
    "from sklearn import model_selection\n",
    "from sklearn.svm import SVC\n",
    "from sklearn.tree import DecisionTreeClassifier\n",
    "from sklearn.neighbors import KNeighborsClassifier\n",
    "from sklearn import neighbors\n",
    "from sklearn.neural_network import MLPClassifier\n",
    "from sklearn.ensemble import RandomForestClassifier\n",
    "from sklearn.ensemble import GradientBoostingClassifier\n",
    "from sklearn.linear_model import LogisticRegression\n",
    "from xgboost import XGBClassifier\n",
    "\n",
    "from lightgbm import LGBMClassifier\n",
    "\n",
    "\n",
    "from warnings import filterwarnings\n",
    "filterwarnings(\"ignore\")     # önceki bölümlerde çalıştırdığımızda çıkan gereksiz uyarı mesajları çıkmasın diye"
   ]
  },
  {
   "cell_type": "code",
   "execution_count": 3,
   "metadata": {},
   "outputs": [
    {
     "data": {
      "text/html": [
       "<div>\n",
       "<style scoped>\n",
       "    .dataframe tbody tr th:only-of-type {\n",
       "        vertical-align: middle;\n",
       "    }\n",
       "\n",
       "    .dataframe tbody tr th {\n",
       "        vertical-align: top;\n",
       "    }\n",
       "\n",
       "    .dataframe thead th {\n",
       "        text-align: right;\n",
       "    }\n",
       "</style>\n",
       "<table border=\"1\" class=\"dataframe\">\n",
       "  <thead>\n",
       "    <tr style=\"text-align: right;\">\n",
       "      <th></th>\n",
       "      <th>Pregnancies</th>\n",
       "      <th>Glucose</th>\n",
       "      <th>BloodPressure</th>\n",
       "      <th>SkinThickness</th>\n",
       "      <th>Insulin</th>\n",
       "      <th>BMI</th>\n",
       "      <th>DiabetesPedigreeFunction</th>\n",
       "      <th>Age</th>\n",
       "      <th>Outcome</th>\n",
       "    </tr>\n",
       "  </thead>\n",
       "  <tbody>\n",
       "    <tr>\n",
       "      <th>0</th>\n",
       "      <td>6</td>\n",
       "      <td>148</td>\n",
       "      <td>72</td>\n",
       "      <td>35</td>\n",
       "      <td>0</td>\n",
       "      <td>33.6</td>\n",
       "      <td>0.627</td>\n",
       "      <td>50</td>\n",
       "      <td>1</td>\n",
       "    </tr>\n",
       "    <tr>\n",
       "      <th>1</th>\n",
       "      <td>1</td>\n",
       "      <td>85</td>\n",
       "      <td>66</td>\n",
       "      <td>29</td>\n",
       "      <td>0</td>\n",
       "      <td>26.6</td>\n",
       "      <td>0.351</td>\n",
       "      <td>31</td>\n",
       "      <td>0</td>\n",
       "    </tr>\n",
       "    <tr>\n",
       "      <th>2</th>\n",
       "      <td>8</td>\n",
       "      <td>183</td>\n",
       "      <td>64</td>\n",
       "      <td>0</td>\n",
       "      <td>0</td>\n",
       "      <td>23.3</td>\n",
       "      <td>0.672</td>\n",
       "      <td>32</td>\n",
       "      <td>1</td>\n",
       "    </tr>\n",
       "    <tr>\n",
       "      <th>3</th>\n",
       "      <td>1</td>\n",
       "      <td>89</td>\n",
       "      <td>66</td>\n",
       "      <td>23</td>\n",
       "      <td>94</td>\n",
       "      <td>28.1</td>\n",
       "      <td>0.167</td>\n",
       "      <td>21</td>\n",
       "      <td>0</td>\n",
       "    </tr>\n",
       "    <tr>\n",
       "      <th>4</th>\n",
       "      <td>0</td>\n",
       "      <td>137</td>\n",
       "      <td>40</td>\n",
       "      <td>35</td>\n",
       "      <td>168</td>\n",
       "      <td>43.1</td>\n",
       "      <td>2.288</td>\n",
       "      <td>33</td>\n",
       "      <td>1</td>\n",
       "    </tr>\n",
       "  </tbody>\n",
       "</table>\n",
       "</div>"
      ],
      "text/plain": [
       "   Pregnancies  Glucose  BloodPressure  ...  DiabetesPedigreeFunction  Age  Outcome\n",
       "0            6      148             72  ...                     0.627   50        1\n",
       "1            1       85             66  ...                     0.351   31        0\n",
       "2            8      183             64  ...                     0.672   32        1\n",
       "3            1       89             66  ...                     0.167   21        0\n",
       "4            0      137             40  ...                     2.288   33        1\n",
       "\n",
       "[5 rows x 9 columns]"
      ]
     },
     "execution_count": 3,
     "metadata": {},
     "output_type": "execute_result"
    }
   ],
   "source": [
    "df = pd.read_csv(\"Veri ve Fotoğraflar\\diabetes.csv\")\n",
    "df.head()\n",
    "\n",
    "\n",
    "# Bağımlı değişkenimiz \"Outcome\". Yani burada kişi diyabet hastası mı değil mi bunu inceliyoruz. 1, hasta ; 0, hasta değil"
   ]
  },
  {
   "cell_type": "code",
   "execution_count": 4,
   "metadata": {},
   "outputs": [],
   "source": [
    "y = df[\"Outcome\"]\n",
    "\n",
    "x = df.drop([\"Outcome\"] , axis=1)\n",
    "\n",
    "x_train , x_test , y_train , y_test = train_test_split(x , y , test_size=0.30 , random_state=42)"
   ]
  },
  {
   "cell_type": "markdown",
   "metadata": {},
   "source": [
    "# MODEL"
   ]
  },
  {
   "cell_type": "code",
   "execution_count": 5,
   "metadata": {},
   "outputs": [],
   "source": [
    "lgbm_model = LGBMClassifier().fit(x_train , y_train)"
   ]
  },
  {
   "cell_type": "code",
   "execution_count": 6,
   "metadata": {},
   "outputs": [
    {
     "name": "stdout",
     "output_type": "stream",
     "text": [
      "\u001b[1;31mType:\u001b[0m           LGBMClassifier\n",
      "\u001b[1;31mString form:\u001b[0m    LGBMClassifier()\n",
      "\u001b[1;31mFile:\u001b[0m           c:\\python312\\lib\\site-packages\\lightgbm\\sklearn.py\n",
      "\u001b[1;31mDocstring:\u001b[0m      LightGBM classifier.\n",
      "\u001b[1;31mInit docstring:\u001b[0m\n",
      "Construct a gradient boosting model.\n",
      "\n",
      "Parameters\n",
      "----------\n",
      "boosting_type : str, optional (default='gbdt')\n",
      "    'gbdt', traditional Gradient Boosting Decision Tree.\n",
      "    'dart', Dropouts meet Multiple Additive Regression Trees.\n",
      "    'rf', Random Forest.\n",
      "num_leaves : int, optional (default=31)\n",
      "    Maximum tree leaves for base learners.\n",
      "max_depth : int, optional (default=-1)\n",
      "    Maximum tree depth for base learners, <=0 means no limit.\n",
      "    If setting this to a positive value, consider also changing ``num_leaves`` to ``<= 2^max_depth``.\n",
      "learning_rate : float, optional (default=0.1)\n",
      "    Boosting learning rate.\n",
      "    You can use ``callbacks`` parameter of ``fit`` method to shrink/adapt learning rate\n",
      "    in training using ``reset_parameter`` callback.\n",
      "    Note, that this will ignore the ``learning_rate`` argument in training.\n",
      "n_estimators : int, optional (default=100)\n",
      "    Number of boosted trees to fit.\n",
      "subsample_for_bin : int, optional (default=200000)\n",
      "    Number of samples for constructing bins.\n",
      "objective : str, callable or None, optional (default=None)\n",
      "    Specify the learning task and the corresponding learning objective or\n",
      "    a custom objective function to be used (see note below).\n",
      "    Default: 'regression' for LGBMRegressor, 'binary' or 'multiclass' for LGBMClassifier, 'lambdarank' for LGBMRanker.\n",
      "class_weight : dict, 'balanced' or None, optional (default=None)\n",
      "    Weights associated with classes in the form ``{class_label: weight}``.\n",
      "    Use this parameter only for multi-class classification task;\n",
      "    for binary classification task you may use ``is_unbalance`` or ``scale_pos_weight`` parameters.\n",
      "    Note, that the usage of all these parameters will result in poor estimates of the individual class probabilities.\n",
      "    You may want to consider performing probability calibration\n",
      "    (https://scikit-learn.org/stable/modules/calibration.html) of your model.\n",
      "    The 'balanced' mode uses the values of y to automatically adjust weights\n",
      "    inversely proportional to class frequencies in the input data as ``n_samples / (n_classes * np.bincount(y))``.\n",
      "    If None, all classes are supposed to have weight one.\n",
      "    Note, that these weights will be multiplied with ``sample_weight`` (passed through the ``fit`` method)\n",
      "    if ``sample_weight`` is specified.\n",
      "min_split_gain : float, optional (default=0.)\n",
      "    Minimum loss reduction required to make a further partition on a leaf node of the tree.\n",
      "min_child_weight : float, optional (default=1e-3)\n",
      "    Minimum sum of instance weight (Hessian) needed in a child (leaf).\n",
      "min_child_samples : int, optional (default=20)\n",
      "    Minimum number of data needed in a child (leaf).\n",
      "subsample : float, optional (default=1.)\n",
      "    Subsample ratio of the training instance.\n",
      "subsample_freq : int, optional (default=0)\n",
      "    Frequency of subsample, <=0 means no enable.\n",
      "colsample_bytree : float, optional (default=1.)\n",
      "    Subsample ratio of columns when constructing each tree.\n",
      "reg_alpha : float, optional (default=0.)\n",
      "    L1 regularization term on weights.\n",
      "reg_lambda : float, optional (default=0.)\n",
      "    L2 regularization term on weights.\n",
      "random_state : int, RandomState object or None, optional (default=None)\n",
      "    Random number seed.\n",
      "    If int, this number is used to seed the C++ code.\n",
      "    If RandomState or Generator object (numpy), a random integer is picked based on its state to seed the C++ code.\n",
      "    If None, default seeds in C++ code are used.\n",
      "n_jobs : int or None, optional (default=None)\n",
      "    Number of parallel threads to use for training (can be changed at prediction time by\n",
      "    passing it as an extra keyword argument).\n",
      "\n",
      "    For better performance, it is recommended to set this to the number of physical cores\n",
      "    in the CPU.\n",
      "\n",
      "    Negative integers are interpreted as following joblib's formula (n_cpus + 1 + n_jobs), just like\n",
      "    scikit-learn (so e.g. -1 means using all threads). A value of zero corresponds the default number of\n",
      "    threads configured for OpenMP in the system. A value of ``None`` (the default) corresponds\n",
      "    to using the number of physical cores in the system (its correct detection requires\n",
      "    either the ``joblib`` or the ``psutil`` util libraries to be installed).\n",
      "\n",
      "    .. versionchanged:: 4.0.0\n",
      "\n",
      "importance_type : str, optional (default='split')\n",
      "    The type of feature importance to be filled into ``feature_importances_``.\n",
      "    If 'split', result contains numbers of times the feature is used in a model.\n",
      "    If 'gain', result contains total gains of splits which use the feature.\n",
      "**kwargs\n",
      "    Other parameters for the model.\n",
      "    Check http://lightgbm.readthedocs.io/en/latest/Parameters.html for more parameters.\n",
      "\n",
      "    .. warning::\n",
      "\n",
      "        \\*\\*kwargs is not supported in sklearn, it may cause unexpected issues.\n",
      "\n",
      "Note\n",
      "----\n",
      "A custom objective function can be provided for the ``objective`` parameter.\n",
      "In this case, it should have the signature\n",
      "``objective(y_true, y_pred) -> grad, hess``,\n",
      "``objective(y_true, y_pred, weight) -> grad, hess``\n",
      "or ``objective(y_true, y_pred, weight, group) -> grad, hess``:\n",
      "\n",
      "    y_true : numpy 1-D array of shape = [n_samples]\n",
      "        The target values.\n",
      "    y_pred : numpy 1-D array of shape = [n_samples] or numpy 2-D array of shape = [n_samples, n_classes] (for multi-class task)\n",
      "        The predicted values.\n",
      "        Predicted values are returned before any transformation,\n",
      "        e.g. they are raw margin instead of probability of positive class for binary task.\n",
      "    weight : numpy 1-D array of shape = [n_samples]\n",
      "        The weight of samples. Weights should be non-negative.\n",
      "    group : numpy 1-D array\n",
      "        Group/query data.\n",
      "        Only used in the learning-to-rank task.\n",
      "        sum(group) = n_samples.\n",
      "        For example, if you have a 100-document dataset with ``group = [10, 20, 40, 10, 10, 10]``, that means that you have 6 groups,\n",
      "        where the first 10 records are in the first group, records 11-30 are in the second group, records 31-70 are in the third group, etc.\n",
      "    grad : numpy 1-D array of shape = [n_samples] or numpy 2-D array of shape = [n_samples, n_classes] (for multi-class task)\n",
      "        The value of the first order derivative (gradient) of the loss\n",
      "        with respect to the elements of y_pred for each sample point.\n",
      "    hess : numpy 1-D array of shape = [n_samples] or numpy 2-D array of shape = [n_samples, n_classes] (for multi-class task)\n",
      "        The value of the second order derivative (Hessian) of the loss\n",
      "        with respect to the elements of y_pred for each sample point.\n",
      "\n",
      "For multi-class task, y_pred is a numpy 2-D array of shape = [n_samples, n_classes],\n",
      "and grad and hess should be returned in the same format."
     ]
    }
   ],
   "source": [
    "?lgbm_model"
   ]
  },
  {
   "cell_type": "markdown",
   "metadata": {},
   "source": []
  },
  {
   "cell_type": "markdown",
   "metadata": {},
   "source": [
    "# TAHMİN"
   ]
  },
  {
   "cell_type": "code",
   "execution_count": 7,
   "metadata": {},
   "outputs": [
    {
     "data": {
      "text/plain": [
       "0.7229437229437229"
      ]
     },
     "execution_count": 7,
     "metadata": {},
     "output_type": "execute_result"
    }
   ],
   "source": [
    "y_pred = lgbm_model.predict(x_test)\n",
    "\n",
    "accuracy_score(y_test , y_pred)"
   ]
  },
  {
   "cell_type": "markdown",
   "metadata": {},
   "source": [
    "# MODEL TUNING (DOĞRULAMA)"
   ]
  },
  {
   "cell_type": "code",
   "execution_count": 8,
   "metadata": {},
   "outputs": [],
   "source": [
    "lgbm = LGBMClassifier()"
   ]
  },
  {
   "cell_type": "code",
   "execution_count": 9,
   "metadata": {},
   "outputs": [],
   "source": [
    "lgbm_params = {\"learning_rate\": [0.001 , 0.01 , 0.1] , \"n_estimators\": [200 , 500 ,100] , \"max_depth\": [1,2,5,8]}"
   ]
  },
  {
   "cell_type": "code",
   "execution_count": 11,
   "metadata": {},
   "outputs": [
    {
     "name": "stdout",
     "output_type": "stream",
     "text": [
      "Fitting 10 folds for each of 36 candidates, totalling 360 fits\n"
     ]
    }
   ],
   "source": [
    "lgbm_cv_model = GridSearchCV(lgbm , lgbm_params , cv=10 , n_jobs=-1 , verbose=2).fit(x_train , y_train)"
   ]
  },
  {
   "cell_type": "code",
   "execution_count": 12,
   "metadata": {},
   "outputs": [
    {
     "data": {
      "text/plain": [
       "{'learning_rate': 0.01, 'max_depth': 1, 'n_estimators': 500}"
      ]
     },
     "execution_count": 12,
     "metadata": {},
     "output_type": "execute_result"
    }
   ],
   "source": [
    "lgbm_cv_model.best_params_"
   ]
  },
  {
   "cell_type": "code",
   "execution_count": 13,
   "metadata": {},
   "outputs": [],
   "source": [
    "# FİNAL MODELİMİZ\n",
    "\n",
    "lgbm_tuned = LGBMClassifier(learning_rate=0.01 , max_depth=1 , n_estimators=500).fit(x_train , y_train)"
   ]
  },
  {
   "cell_type": "code",
   "execution_count": 14,
   "metadata": {},
   "outputs": [
    {
     "data": {
      "text/plain": [
       "0.7575757575757576"
      ]
     },
     "execution_count": 14,
     "metadata": {},
     "output_type": "execute_result"
    }
   ],
   "source": [
    "y_pred = lgbm_tuned.predict(x_test)\n",
    "\n",
    "accuracy_score(y_test , y_pred)"
   ]
  },
  {
   "cell_type": "markdown",
   "metadata": {},
   "source": [
    "# DEĞİŞKEN ÖNEM DÜZEYİ"
   ]
  },
  {
   "cell_type": "code",
   "execution_count": 15,
   "metadata": {},
   "outputs": [
    {
     "data": {
      "image/png": "[encoded data removed]",
      "text/plain": [
       "<Figure size 640x480 with 1 Axes>"
      ]
     },
     "metadata": {},
     "output_type": "display_data"
    }
   ],
   "source": [
    "featue_imp = pd.Series(lgbm_tuned.feature_importances_ , index=x_train.columns).sort_values(ascending=False)\n",
    "\n",
    "sns.barplot(x=featue_imp , y=featue_imp.index)\n",
    "plt.xlabel(\"Değişken Önem Skorları\")\n",
    "plt.ylabel(\"Değişkenler\")\n",
    "plt.title(\"Değişken Önem Düzeyleri\")\n",
    "plt.show()"
   ]
  }
 ],
 "metadata": {
  "kernelspec": {
   "display_name": "Python 3",
   "language": "python",
   "name": "python3"
  },
  "language_info": {
   "codemirror_mode": {
    "name": "ipython",
    "version": 3
   },
   "file_extension": ".py",
   "mimetype": "text/x-python",
   "name": "python",
   "nbconvert_exporter": "python",
   "pygments_lexer": "ipython3",
   "version": "3.12.2"
  }
 },
 "nbformat": 4,
 "nbformat_minor": 2
}
